{
 "cells": [
  {
   "cell_type": "markdown",
   "id": "8facee98",
   "metadata": {
    "papermill": {
     "duration": 0.012848,
     "end_time": "2023-12-14T13:59:01.152984",
     "exception": false,
     "start_time": "2023-12-14T13:59:01.140136",
     "status": "completed"
    },
    "tags": []
   },
   "source": [
    "# DSCI-598 Capstone\n",
    "## Maryville University\n",
    "### November - December 2023\n",
    "### Alison Hawke"
   ]
  },
  {
   "cell_type": "markdown",
   "id": "21038bac",
   "metadata": {
    "papermill": {
     "duration": 0.010953,
     "end_time": "2023-12-14T13:59:01.175476",
     "exception": false,
     "start_time": "2023-12-14T13:59:01.164523",
     "status": "completed"
    },
    "tags": []
   },
   "source": [
    "## Initial models: Logistic Regression, Logistic Regression with Cross Validation, Decision Tree, and Random Forest"
   ]
  },
  {
   "cell_type": "markdown",
   "id": "fd3ba94c",
   "metadata": {
    "papermill": {
     "duration": 0.010946,
     "end_time": "2023-12-14T13:59:01.197934",
     "exception": false,
     "start_time": "2023-12-14T13:59:01.186988",
     "status": "completed"
    },
    "tags": []
   },
   "source": [
    "## Loading required libraries"
   ]
  },
  {
   "cell_type": "code",
   "execution_count": 1,
   "id": "3cd65cf1",
   "metadata": {
    "execution": {
     "iopub.execute_input": "2023-12-14T13:59:01.223349Z",
     "iopub.status.busy": "2023-12-14T13:59:01.222522Z",
     "iopub.status.idle": "2023-12-14T13:59:04.438969Z",
     "shell.execute_reply": "2023-12-14T13:59:04.437718Z"
    },
    "papermill": {
     "duration": 3.2326,
     "end_time": "2023-12-14T13:59:04.442116",
     "exception": false,
     "start_time": "2023-12-14T13:59:01.209516",
     "status": "completed"
    },
    "tags": []
   },
   "outputs": [],
   "source": [
    "import numpy as np \n",
    "import pandas as pd \n",
    "import matplotlib.pyplot as plt\n",
    "import os\n",
    "\n",
    "from sklearn.model_selection import train_test_split\n",
    "from sklearn.preprocessing import OneHotEncoder\n",
    "from sklearn.linear_model import LogisticRegression, LogisticRegressionCV\n",
    "from sklearn.tree import DecisionTreeClassifier\n",
    "from sklearn.ensemble import RandomForestClassifier\n",
    "from sklearn import metrics\n",
    "from sklearn.metrics import classification_report"
   ]
  },
  {
   "cell_type": "markdown",
   "id": "5e7f4239",
   "metadata": {
    "papermill": {
     "duration": 0.011465,
     "end_time": "2023-12-14T13:59:04.465167",
     "exception": false,
     "start_time": "2023-12-14T13:59:04.453702",
     "status": "completed"
    },
    "tags": []
   },
   "source": [
    "## Loading the data set"
   ]
  },
  {
   "cell_type": "code",
   "execution_count": 2,
   "id": "42c3cadd",
   "metadata": {
    "execution": {
     "iopub.execute_input": "2023-12-14T13:59:04.491796Z",
     "iopub.status.busy": "2023-12-14T13:59:04.491164Z",
     "iopub.status.idle": "2023-12-14T13:59:04.693278Z",
     "shell.execute_reply": "2023-12-14T13:59:04.691679Z"
    },
    "papermill": {
     "duration": 0.219047,
     "end_time": "2023-12-14T13:59:04.696543",
     "exception": false,
     "start_time": "2023-12-14T13:59:04.477496",
     "status": "completed"
    },
    "tags": []
   },
   "outputs": [
    {
     "data": {
      "text/plain": [
       "(15120, 56)"
      ]
     },
     "execution_count": 2,
     "metadata": {},
     "output_type": "execute_result"
    }
   ],
   "source": [
    "train = pd.read_csv('/kaggle/input/forest-cover-type-prediction/train.csv', dtype = str)\n",
    "train.shape"
   ]
  },
  {
   "cell_type": "code",
   "execution_count": 3,
   "id": "37f29ec2",
   "metadata": {
    "execution": {
     "iopub.execute_input": "2023-12-14T13:59:04.724022Z",
     "iopub.status.busy": "2023-12-14T13:59:04.723554Z",
     "iopub.status.idle": "2023-12-14T13:59:10.991189Z",
     "shell.execute_reply": "2023-12-14T13:59:10.989709Z"
    },
    "papermill": {
     "duration": 6.28564,
     "end_time": "2023-12-14T13:59:10.995035",
     "exception": false,
     "start_time": "2023-12-14T13:59:04.709395",
     "status": "completed"
    },
    "tags": []
   },
   "outputs": [
    {
     "data": {
      "text/plain": [
       "(565892, 55)"
      ]
     },
     "execution_count": 3,
     "metadata": {},
     "output_type": "execute_result"
    }
   ],
   "source": [
    "test = pd.read_csv('/kaggle/input/forest-cover-type-prediction/test.csv', dtype = str)\n",
    "test.shape"
   ]
  },
  {
   "cell_type": "markdown",
   "id": "3f7aa8a3",
   "metadata": {
    "papermill": {
     "duration": 0.011401,
     "end_time": "2023-12-14T13:59:11.018706",
     "exception": false,
     "start_time": "2023-12-14T13:59:11.007305",
     "status": "completed"
    },
    "tags": []
   },
   "source": [
    "### Numeric and categorical data in the training set"
   ]
  },
  {
   "cell_type": "code",
   "execution_count": 4,
   "id": "1e9556b2",
   "metadata": {
    "execution": {
     "iopub.execute_input": "2023-12-14T13:59:11.045400Z",
     "iopub.status.busy": "2023-12-14T13:59:11.044669Z",
     "iopub.status.idle": "2023-12-14T13:59:11.082453Z",
     "shell.execute_reply": "2023-12-14T13:59:11.081011Z"
    },
    "papermill": {
     "duration": 0.054421,
     "end_time": "2023-12-14T13:59:11.084995",
     "exception": false,
     "start_time": "2023-12-14T13:59:11.030574",
     "status": "completed"
    },
    "tags": []
   },
   "outputs": [
    {
     "name": "stdout",
     "output_type": "stream",
     "text": [
      "Numerical Feature Array Shape:    (15120, 10)\n",
      "Categorical Feature Array Shape:  (15120, 44)\n",
      "Label Array Shape:                (15120,)\n"
     ]
    }
   ],
   "source": [
    "X_num_train = train.loc[:, ['Elevation', 'Aspect', 'Slope', 'Horizontal_Distance_To_Hydrology',\n",
    "                   'Vertical_Distance_To_Hydrology', 'Horizontal_Distance_To_Roadways',\n",
    "                   'Hillshade_9am', 'Hillshade_Noon', 'Hillshade_3pm', 'Horizontal_Distance_To_Fire_Points']].values\n",
    "X_cat_train = train.loc[:, ['Wilderness_Area1', 'Wilderness_Area2', 'Wilderness_Area3', \n",
    "                      'Wilderness_Area4', 'Soil_Type1', 'Soil_Type2', 'Soil_Type3', 'Soil_Type4', \n",
    "                      'Soil_Type5', 'Soil_Type6', 'Soil_Type7', 'Soil_Type8', 'Soil_Type9', \n",
    "                      'Soil_Type10', 'Soil_Type11', 'Soil_Type12', 'Soil_Type13', 'Soil_Type14', \n",
    "                      'Soil_Type15', 'Soil_Type16', 'Soil_Type17', 'Soil_Type18', 'Soil_Type19', \n",
    "                      'Soil_Type20', 'Soil_Type21', 'Soil_Type22', 'Soil_Type23', 'Soil_Type24',\n",
    "                      'Soil_Type25', 'Soil_Type26', 'Soil_Type27', 'Soil_Type28', 'Soil_Type29',\n",
    "                      'Soil_Type30', 'Soil_Type31', 'Soil_Type32', 'Soil_Type33', 'Soil_Type34',\n",
    "                      'Soil_Type35', 'Soil_Type36', 'Soil_Type37', 'Soil_Type38', 'Soil_Type39',\n",
    "                      'Soil_Type40',]].values\n",
    "y = train.loc[:, 'Cover_Type'].values\n",
    "\n",
    "print('Numerical Feature Array Shape:   ', X_num_train.shape)\n",
    "print('Categorical Feature Array Shape: ', X_cat_train.shape)\n",
    "print('Label Array Shape:               ', y.shape)"
   ]
  },
  {
   "cell_type": "code",
   "execution_count": 5,
   "id": "390fae49",
   "metadata": {
    "execution": {
     "iopub.execute_input": "2023-12-14T13:59:11.110899Z",
     "iopub.status.busy": "2023-12-14T13:59:11.110463Z",
     "iopub.status.idle": "2023-12-14T13:59:11.130525Z",
     "shell.execute_reply": "2023-12-14T13:59:11.129012Z"
    },
    "papermill": {
     "duration": 0.036495,
     "end_time": "2023-12-14T13:59:11.133522",
     "exception": false,
     "start_time": "2023-12-14T13:59:11.097027",
     "status": "completed"
    },
    "tags": []
   },
   "outputs": [
    {
     "name": "stdout",
     "output_type": "stream",
     "text": [
      "Feature Array Shape: (15120, 54)\n"
     ]
    }
   ],
   "source": [
    "# join arrays\n",
    "X = np.hstack((X_num_train, X_cat_train))\n",
    "\n",
    "print('Feature Array Shape:', X.shape)"
   ]
  },
  {
   "cell_type": "markdown",
   "id": "0f40fb03",
   "metadata": {
    "papermill": {
     "duration": 0.011485,
     "end_time": "2023-12-14T13:59:11.157045",
     "exception": false,
     "start_time": "2023-12-14T13:59:11.145560",
     "status": "completed"
    },
    "tags": []
   },
   "source": [
    "### Splitting the train.csv data into model training and test sets"
   ]
  },
  {
   "cell_type": "code",
   "execution_count": 6,
   "id": "cf090a35",
   "metadata": {
    "execution": {
     "iopub.execute_input": "2023-12-14T13:59:11.182822Z",
     "iopub.status.busy": "2023-12-14T13:59:11.182401Z",
     "iopub.status.idle": "2023-12-14T13:59:11.262981Z",
     "shell.execute_reply": "2023-12-14T13:59:11.261731Z"
    },
    "papermill": {
     "duration": 0.096766,
     "end_time": "2023-12-14T13:59:11.265841",
     "exception": false,
     "start_time": "2023-12-14T13:59:11.169075",
     "status": "completed"
    },
    "tags": []
   },
   "outputs": [],
   "source": [
    "X_train, X_hold, y_train, y_hold = train_test_split(X, y, test_size = 0.2, random_state = 1, stratify = y)\n",
    "X_valid, X_test, y_valid, y_test = train_test_split(X_hold, y_hold, test_size = 0.2, random_state = 1, stratify = y_hold)"
   ]
  },
  {
   "cell_type": "markdown",
   "id": "4f81944a",
   "metadata": {
    "papermill": {
     "duration": 0.012507,
     "end_time": "2023-12-14T13:59:11.292274",
     "exception": false,
     "start_time": "2023-12-14T13:59:11.279767",
     "status": "completed"
    },
    "tags": []
   },
   "source": [
    "# Logistic regression model\n",
    "\n",
    "* Validation Accuracy:  66.6%\n",
    "* Test set accuracy: 68%\n",
    "\n",
    "This model is a basic approach, and has some success at predicting the test set."
   ]
  },
  {
   "cell_type": "code",
   "execution_count": 7,
   "id": "138704a0",
   "metadata": {
    "execution": {
     "iopub.execute_input": "2023-12-14T13:59:11.318259Z",
     "iopub.status.busy": "2023-12-14T13:59:11.317696Z",
     "iopub.status.idle": "2023-12-14T14:00:47.791194Z",
     "shell.execute_reply": "2023-12-14T14:00:47.789663Z"
    },
    "papermill": {
     "duration": 96.491718,
     "end_time": "2023-12-14T14:00:47.796270",
     "exception": false,
     "start_time": "2023-12-14T13:59:11.304552",
     "status": "completed"
    },
    "tags": []
   },
   "outputs": [
    {
     "name": "stderr",
     "output_type": "stream",
     "text": [
      "/opt/conda/lib/python3.10/site-packages/sklearn/linear_model/_logistic.py:458: ConvergenceWarning: lbfgs failed to converge (status=1):\n",
      "STOP: TOTAL NO. of ITERATIONS REACHED LIMIT.\n",
      "\n",
      "Increase the number of iterations (max_iter) or scale the data as shown in:\n",
      "    https://scikit-learn.org/stable/modules/preprocessing.html\n",
      "Please also refer to the documentation for alternative solver options:\n",
      "    https://scikit-learn.org/stable/modules/linear_model.html#logistic-regression\n",
      "  n_iter_i = _check_optimize_result(\n"
     ]
    },
    {
     "name": "stdout",
     "output_type": "stream",
     "text": [
      "Training Accuracy:    0.6661\n",
      "Validation Accuracy:  0.666\n",
      "CPU times: user 4min 4s, sys: 2min 7s, total: 6min 12s\n",
      "Wall time: 1min 36s\n"
     ]
    }
   ],
   "source": [
    "%%time\n",
    "\n",
    "lr_mod = LogisticRegression(solver = 'lbfgs', penalty = None, max_iter = 10000)\n",
    "lr_mod.fit(X_train, y_train)\n",
    "\n",
    "lr_mod_train_acc = lr_mod.score(X_train, y_train)\n",
    "lr_mod_valid_acc = lr_mod.score(X_valid, y_valid)\n",
    "\n",
    "print('Training Accuracy:   ', round(lr_mod_train_acc, 4))\n",
    "print('Validation Accuracy: ', round(lr_mod_valid_acc, 4))"
   ]
  },
  {
   "cell_type": "markdown",
   "id": "7227a532",
   "metadata": {
    "papermill": {
     "duration": 0.025995,
     "end_time": "2023-12-14T14:00:47.854395",
     "exception": false,
     "start_time": "2023-12-14T14:00:47.828400",
     "status": "completed"
    },
    "tags": []
   },
   "source": [
    "### Logistic regression model confusion matrix"
   ]
  },
  {
   "cell_type": "code",
   "execution_count": 8,
   "id": "42da3770",
   "metadata": {
    "execution": {
     "iopub.execute_input": "2023-12-14T14:00:47.903935Z",
     "iopub.status.busy": "2023-12-14T14:00:47.903489Z",
     "iopub.status.idle": "2023-12-14T14:00:47.935710Z",
     "shell.execute_reply": "2023-12-14T14:00:47.934478Z"
    },
    "papermill": {
     "duration": 0.058302,
     "end_time": "2023-12-14T14:00:47.938421",
     "exception": false,
     "start_time": "2023-12-14T14:00:47.880119",
     "status": "completed"
    },
    "tags": []
   },
   "outputs": [
    {
     "data": {
      "text/html": [
       "<div>\n",
       "<style scoped>\n",
       "    .dataframe tbody tr th:only-of-type {\n",
       "        vertical-align: middle;\n",
       "    }\n",
       "\n",
       "    .dataframe tbody tr th {\n",
       "        vertical-align: top;\n",
       "    }\n",
       "\n",
       "    .dataframe thead th {\n",
       "        text-align: right;\n",
       "    }\n",
       "</style>\n",
       "<table border=\"1\" class=\"dataframe\">\n",
       "  <thead>\n",
       "    <tr style=\"text-align: right;\">\n",
       "      <th></th>\n",
       "      <th>1</th>\n",
       "      <th>2</th>\n",
       "      <th>3</th>\n",
       "      <th>4</th>\n",
       "      <th>5</th>\n",
       "      <th>6</th>\n",
       "      <th>7</th>\n",
       "    </tr>\n",
       "  </thead>\n",
       "  <tbody>\n",
       "    <tr>\n",
       "      <th>1</th>\n",
       "      <td>52</td>\n",
       "      <td>16</td>\n",
       "      <td>0</td>\n",
       "      <td>0</td>\n",
       "      <td>4</td>\n",
       "      <td>0</td>\n",
       "      <td>14</td>\n",
       "    </tr>\n",
       "    <tr>\n",
       "      <th>2</th>\n",
       "      <td>18</td>\n",
       "      <td>45</td>\n",
       "      <td>1</td>\n",
       "      <td>0</td>\n",
       "      <td>18</td>\n",
       "      <td>2</td>\n",
       "      <td>2</td>\n",
       "    </tr>\n",
       "    <tr>\n",
       "      <th>3</th>\n",
       "      <td>0</td>\n",
       "      <td>0</td>\n",
       "      <td>39</td>\n",
       "      <td>13</td>\n",
       "      <td>7</td>\n",
       "      <td>27</td>\n",
       "      <td>0</td>\n",
       "    </tr>\n",
       "    <tr>\n",
       "      <th>4</th>\n",
       "      <td>0</td>\n",
       "      <td>0</td>\n",
       "      <td>7</td>\n",
       "      <td>72</td>\n",
       "      <td>0</td>\n",
       "      <td>8</td>\n",
       "      <td>0</td>\n",
       "    </tr>\n",
       "    <tr>\n",
       "      <th>5</th>\n",
       "      <td>2</td>\n",
       "      <td>12</td>\n",
       "      <td>0</td>\n",
       "      <td>0</td>\n",
       "      <td>71</td>\n",
       "      <td>1</td>\n",
       "      <td>1</td>\n",
       "    </tr>\n",
       "    <tr>\n",
       "      <th>6</th>\n",
       "      <td>0</td>\n",
       "      <td>0</td>\n",
       "      <td>14</td>\n",
       "      <td>10</td>\n",
       "      <td>4</td>\n",
       "      <td>59</td>\n",
       "      <td>0</td>\n",
       "    </tr>\n",
       "    <tr>\n",
       "      <th>7</th>\n",
       "      <td>11</td>\n",
       "      <td>0</td>\n",
       "      <td>0</td>\n",
       "      <td>0</td>\n",
       "      <td>0</td>\n",
       "      <td>0</td>\n",
       "      <td>75</td>\n",
       "    </tr>\n",
       "  </tbody>\n",
       "</table>\n",
       "</div>"
      ],
      "text/plain": [
       "    1   2   3   4   5   6   7\n",
       "1  52  16   0   0   4   0  14\n",
       "2  18  45   1   0  18   2   2\n",
       "3   0   0  39  13   7  27   0\n",
       "4   0   0   7  72   0   8   0\n",
       "5   2  12   0   0  71   1   1\n",
       "6   0   0  14  10   4  59   0\n",
       "7  11   0   0   0   0   0  75"
      ]
     },
     "execution_count": 8,
     "metadata": {},
     "output_type": "execute_result"
    }
   ],
   "source": [
    "y_pred = lr_mod.predict(X_test)\n",
    "cnf_matrix = metrics.confusion_matrix(y_test, y_pred)\n",
    "\n",
    "cm_df = pd.DataFrame(cnf_matrix, columns = ['1', '2', '3', '4', '5', '6', '7'])\n",
    "cm_df.index = ['1', '2', '3', '4', '5', '6', '7']\n",
    "cm_df"
   ]
  },
  {
   "cell_type": "markdown",
   "id": "7f2857e8",
   "metadata": {
    "papermill": {
     "duration": 0.012081,
     "end_time": "2023-12-14T14:00:47.962852",
     "exception": false,
     "start_time": "2023-12-14T14:00:47.950771",
     "status": "completed"
    },
    "tags": []
   },
   "source": [
    "### Logistic regression model classification report"
   ]
  },
  {
   "cell_type": "code",
   "execution_count": 9,
   "id": "1dd91896",
   "metadata": {
    "execution": {
     "iopub.execute_input": "2023-12-14T14:00:47.990928Z",
     "iopub.status.busy": "2023-12-14T14:00:47.990055Z",
     "iopub.status.idle": "2023-12-14T14:00:48.031392Z",
     "shell.execute_reply": "2023-12-14T14:00:48.029738Z"
    },
    "papermill": {
     "duration": 0.059099,
     "end_time": "2023-12-14T14:00:48.034466",
     "exception": false,
     "start_time": "2023-12-14T14:00:47.975367",
     "status": "completed"
    },
    "tags": []
   },
   "outputs": [
    {
     "name": "stdout",
     "output_type": "stream",
     "text": [
      "              precision    recall  f1-score   support\n",
      "\n",
      "           1       0.63      0.60      0.62        86\n",
      "           2       0.62      0.52      0.57        86\n",
      "           3       0.64      0.45      0.53        86\n",
      "           4       0.76      0.83      0.79        87\n",
      "           5       0.68      0.82      0.74        87\n",
      "           6       0.61      0.68      0.64        87\n",
      "           7       0.82      0.87      0.84        86\n",
      "\n",
      "    accuracy                           0.68       605\n",
      "   macro avg       0.68      0.68      0.68       605\n",
      "weighted avg       0.68      0.68      0.68       605\n",
      "\n"
     ]
    }
   ],
   "source": [
    "print(classification_report(y_test, y_pred))"
   ]
  },
  {
   "cell_type": "markdown",
   "id": "312da7b1",
   "metadata": {
    "papermill": {
     "duration": 0.013016,
     "end_time": "2023-12-14T14:00:48.061215",
     "exception": false,
     "start_time": "2023-12-14T14:00:48.048199",
     "status": "completed"
    },
    "tags": []
   },
   "source": [
    "Cover types 4 and 7 are easiest for the logistic regression model to predict. The overall accuracy score is 68%."
   ]
  },
  {
   "cell_type": "markdown",
   "id": "ae6e1e8a",
   "metadata": {
    "papermill": {
     "duration": 0.012738,
     "end_time": "2023-12-14T14:00:48.087944",
     "exception": false,
     "start_time": "2023-12-14T14:00:48.075206",
     "status": "completed"
    },
    "tags": []
   },
   "source": [
    "# Logistic regression with cross validation\n",
    "\n",
    "* Validation Accuracy:  66.93%\n",
    "* Test set accuracy: 70%"
   ]
  },
  {
   "cell_type": "code",
   "execution_count": 10,
   "id": "06236d6d",
   "metadata": {
    "execution": {
     "iopub.execute_input": "2023-12-14T14:00:48.117251Z",
     "iopub.status.busy": "2023-12-14T14:00:48.116844Z",
     "iopub.status.idle": "2023-12-14T14:02:53.532681Z",
     "shell.execute_reply": "2023-12-14T14:02:53.530261Z"
    },
    "papermill": {
     "duration": 125.463328,
     "end_time": "2023-12-14T14:02:53.564531",
     "exception": false,
     "start_time": "2023-12-14T14:00:48.101203",
     "status": "completed"
    },
    "tags": []
   },
   "outputs": [
    {
     "name": "stderr",
     "output_type": "stream",
     "text": [
      "/opt/conda/lib/python3.10/site-packages/sklearn/svm/_base.py:1244: ConvergenceWarning: Liblinear failed to converge, increase the number of iterations.\n",
      "  warnings.warn(\n"
     ]
    },
    {
     "name": "stdout",
     "output_type": "stream",
     "text": [
      "Training Accuracy:    0.667\n",
      "Validation Accuracy:  0.6693\n",
      "CPU times: user 2min 16s, sys: 16.1 s, total: 2min 32s\n",
      "Wall time: 2min 5s\n"
     ]
    }
   ],
   "source": [
    "%%time\n",
    "\n",
    "# Set parameters for LogisticRegressionCV\n",
    "n_folds = 10\n",
    "C_values = [0.001, 0.01, 0.05, 0.1, 1.0, 100.0]\n",
    "\n",
    "cv_lr_mod = LogisticRegressionCV(Cs = C_values, cv = n_folds, penalty = 'l2', \n",
    "                           refit = True, solver = 'liblinear', \n",
    "                           random_state = 0, fit_intercept = False)\n",
    "\n",
    "cv_lr_mod.fit(X_train, y_train)\n",
    "\n",
    "cv_lr_mod_train_acc = cv_lr_mod.score(X_train, y_train)\n",
    "cv_lr_mod_valid_acc = cv_lr_mod.score(X_valid, y_valid)\n",
    "\n",
    "print('Training Accuracy:   ', round(cv_lr_mod_train_acc, 4))\n",
    "print('Validation Accuracy: ', round(cv_lr_mod_valid_acc, 4))"
   ]
  },
  {
   "cell_type": "code",
   "execution_count": 11,
   "id": "b1dfe49c",
   "metadata": {
    "execution": {
     "iopub.execute_input": "2023-12-14T14:02:53.700730Z",
     "iopub.status.busy": "2023-12-14T14:02:53.700255Z",
     "iopub.status.idle": "2023-12-14T14:02:53.728265Z",
     "shell.execute_reply": "2023-12-14T14:02:53.726881Z"
    },
    "papermill": {
     "duration": 0.138797,
     "end_time": "2023-12-14T14:02:53.731212",
     "exception": false,
     "start_time": "2023-12-14T14:02:53.592415",
     "status": "completed"
    },
    "tags": []
   },
   "outputs": [
    {
     "data": {
      "text/html": [
       "<div>\n",
       "<style scoped>\n",
       "    .dataframe tbody tr th:only-of-type {\n",
       "        vertical-align: middle;\n",
       "    }\n",
       "\n",
       "    .dataframe tbody tr th {\n",
       "        vertical-align: top;\n",
       "    }\n",
       "\n",
       "    .dataframe thead th {\n",
       "        text-align: right;\n",
       "    }\n",
       "</style>\n",
       "<table border=\"1\" class=\"dataframe\">\n",
       "  <thead>\n",
       "    <tr style=\"text-align: right;\">\n",
       "      <th></th>\n",
       "      <th>1</th>\n",
       "      <th>2</th>\n",
       "      <th>3</th>\n",
       "      <th>4</th>\n",
       "      <th>5</th>\n",
       "      <th>6</th>\n",
       "      <th>7</th>\n",
       "    </tr>\n",
       "  </thead>\n",
       "  <tbody>\n",
       "    <tr>\n",
       "      <th>1</th>\n",
       "      <td>59</td>\n",
       "      <td>13</td>\n",
       "      <td>0</td>\n",
       "      <td>0</td>\n",
       "      <td>5</td>\n",
       "      <td>1</td>\n",
       "      <td>8</td>\n",
       "    </tr>\n",
       "    <tr>\n",
       "      <th>2</th>\n",
       "      <td>16</td>\n",
       "      <td>50</td>\n",
       "      <td>3</td>\n",
       "      <td>0</td>\n",
       "      <td>16</td>\n",
       "      <td>1</td>\n",
       "      <td>0</td>\n",
       "    </tr>\n",
       "    <tr>\n",
       "      <th>3</th>\n",
       "      <td>0</td>\n",
       "      <td>0</td>\n",
       "      <td>43</td>\n",
       "      <td>12</td>\n",
       "      <td>4</td>\n",
       "      <td>27</td>\n",
       "      <td>0</td>\n",
       "    </tr>\n",
       "    <tr>\n",
       "      <th>4</th>\n",
       "      <td>0</td>\n",
       "      <td>0</td>\n",
       "      <td>8</td>\n",
       "      <td>75</td>\n",
       "      <td>0</td>\n",
       "      <td>4</td>\n",
       "      <td>0</td>\n",
       "    </tr>\n",
       "    <tr>\n",
       "      <th>5</th>\n",
       "      <td>4</td>\n",
       "      <td>11</td>\n",
       "      <td>5</td>\n",
       "      <td>0</td>\n",
       "      <td>63</td>\n",
       "      <td>3</td>\n",
       "      <td>1</td>\n",
       "    </tr>\n",
       "    <tr>\n",
       "      <th>6</th>\n",
       "      <td>0</td>\n",
       "      <td>3</td>\n",
       "      <td>13</td>\n",
       "      <td>10</td>\n",
       "      <td>5</td>\n",
       "      <td>56</td>\n",
       "      <td>0</td>\n",
       "    </tr>\n",
       "    <tr>\n",
       "      <th>7</th>\n",
       "      <td>7</td>\n",
       "      <td>0</td>\n",
       "      <td>0</td>\n",
       "      <td>0</td>\n",
       "      <td>1</td>\n",
       "      <td>0</td>\n",
       "      <td>78</td>\n",
       "    </tr>\n",
       "  </tbody>\n",
       "</table>\n",
       "</div>"
      ],
      "text/plain": [
       "    1   2   3   4   5   6   7\n",
       "1  59  13   0   0   5   1   8\n",
       "2  16  50   3   0  16   1   0\n",
       "3   0   0  43  12   4  27   0\n",
       "4   0   0   8  75   0   4   0\n",
       "5   4  11   5   0  63   3   1\n",
       "6   0   3  13  10   5  56   0\n",
       "7   7   0   0   0   1   0  78"
      ]
     },
     "execution_count": 11,
     "metadata": {},
     "output_type": "execute_result"
    }
   ],
   "source": [
    "y_pred = cv_lr_mod.predict(X_test)\n",
    "cnf_matrix = metrics.confusion_matrix(y_test, y_pred)\n",
    "\n",
    "cm_df = pd.DataFrame(cnf_matrix, columns = ['1', '2', '3', '4', '5', '6', '7'])\n",
    "cm_df.index = ['1', '2', '3', '4', '5', '6', '7']\n",
    "cm_df"
   ]
  },
  {
   "cell_type": "code",
   "execution_count": 12,
   "id": "7668d062",
   "metadata": {
    "execution": {
     "iopub.execute_input": "2023-12-14T14:02:53.759681Z",
     "iopub.status.busy": "2023-12-14T14:02:53.759223Z",
     "iopub.status.idle": "2023-12-14T14:02:53.799280Z",
     "shell.execute_reply": "2023-12-14T14:02:53.797678Z"
    },
    "papermill": {
     "duration": 0.057766,
     "end_time": "2023-12-14T14:02:53.802172",
     "exception": false,
     "start_time": "2023-12-14T14:02:53.744406",
     "status": "completed"
    },
    "tags": []
   },
   "outputs": [
    {
     "name": "stdout",
     "output_type": "stream",
     "text": [
      "              precision    recall  f1-score   support\n",
      "\n",
      "           1       0.69      0.69      0.69        86\n",
      "           2       0.65      0.58      0.61        86\n",
      "           3       0.60      0.50      0.54        86\n",
      "           4       0.77      0.86      0.82        87\n",
      "           5       0.67      0.72      0.70        87\n",
      "           6       0.61      0.64      0.63        87\n",
      "           7       0.90      0.91      0.90        86\n",
      "\n",
      "    accuracy                           0.70       605\n",
      "   macro avg       0.70      0.70      0.70       605\n",
      "weighted avg       0.70      0.70      0.70       605\n",
      "\n"
     ]
    }
   ],
   "source": [
    "print(classification_report(y_test, y_pred))"
   ]
  },
  {
   "cell_type": "markdown",
   "id": "ec467f68",
   "metadata": {
    "papermill": {
     "duration": 0.013273,
     "end_time": "2023-12-14T14:02:53.829332",
     "exception": false,
     "start_time": "2023-12-14T14:02:53.816059",
     "status": "completed"
    },
    "tags": []
   },
   "source": [
    "Using cross-validation improved the logistic regresion model to 70% accuracy."
   ]
  },
  {
   "cell_type": "markdown",
   "id": "d1ced4db",
   "metadata": {
    "papermill": {
     "duration": 0.012991,
     "end_time": "2023-12-14T14:02:53.855933",
     "exception": false,
     "start_time": "2023-12-14T14:02:53.842942",
     "status": "completed"
    },
    "tags": []
   },
   "source": [
    "# Decision tree model\n",
    "\n",
    "* Training Accuracy for Optimal Model: 0.9497\n",
    "* Validation Accuracy for Optimal Model: 0.7933"
   ]
  },
  {
   "cell_type": "code",
   "execution_count": 13,
   "id": "84f4006e",
   "metadata": {
    "execution": {
     "iopub.execute_input": "2023-12-14T14:02:53.886292Z",
     "iopub.status.busy": "2023-12-14T14:02:53.885660Z",
     "iopub.status.idle": "2023-12-14T14:03:06.312546Z",
     "shell.execute_reply": "2023-12-14T14:03:06.310928Z"
    },
    "papermill": {
     "duration": 12.446008,
     "end_time": "2023-12-14T14:03:06.315405",
     "exception": false,
     "start_time": "2023-12-14T14:02:53.869397",
     "status": "completed"
    },
    "tags": []
   },
   "outputs": [
    {
     "name": "stdout",
     "output_type": "stream",
     "text": [
      "Decision tree model:\n",
      "Optimal value for max_depth:            15\n",
      "Training Accuracy for Optimal Model:    0.9497\n",
      "Validation Accuracy for Optimal Model:  0.7933\n",
      "CPU times: user 12.4 s, sys: 5.53 ms, total: 12.4 s\n",
      "Wall time: 12.4 s\n"
     ]
    }
   ],
   "source": [
    "%%time\n",
    "\n",
    "dt_train_acc = []\n",
    "dt_valid_acc = []\n",
    "depth_range = range(2, 30)\n",
    "\n",
    "for d in depth_range:\n",
    "    np.random.seed(1)\n",
    "    temp_tree = DecisionTreeClassifier(max_depth = d)\n",
    "    temp_tree.fit(X_train, y_train)\n",
    "    dt_train_acc.append(temp_tree.score(X_train, y_train))\n",
    "    dt_valid_acc.append(temp_tree.score(X_valid, y_valid))\n",
    "\n",
    "dt_idx = np.argmax(dt_valid_acc)\n",
    "dt_opt_depth = depth_range[dt_idx]\n",
    "\n",
    "print('Decision tree model:')\n",
    "print('Optimal value for max_depth:           ', dt_opt_depth)\n",
    "print('Training Accuracy for Optimal Model:   ', round(dt_train_acc[dt_idx], 4))\n",
    "print('Validation Accuracy for Optimal Model: ', round(dt_valid_acc[dt_idx], 4))"
   ]
  },
  {
   "cell_type": "code",
   "execution_count": 14,
   "id": "79db5956",
   "metadata": {
    "execution": {
     "iopub.execute_input": "2023-12-14T14:03:06.344611Z",
     "iopub.status.busy": "2023-12-14T14:03:06.344172Z",
     "iopub.status.idle": "2023-12-14T14:03:06.722122Z",
     "shell.execute_reply": "2023-12-14T14:03:06.721092Z"
    },
    "papermill": {
     "duration": 0.395233,
     "end_time": "2023-12-14T14:03:06.724600",
     "exception": false,
     "start_time": "2023-12-14T14:03:06.329367",
     "status": "completed"
    },
    "tags": []
   },
   "outputs": [
    {
     "data": {
      "image/png": "[encoded data removed]",
      "text/plain": [
       "<Figure size 800x600 with 1 Axes>"
      ]
     },
     "metadata": {},
     "output_type": "display_data"
    }
   ],
   "source": [
    "plt.figure(figsize = [8, 6])\n",
    "\n",
    "plt.plot(depth_range, dt_train_acc, label = 'Training')\n",
    "plt.plot(depth_range, dt_valid_acc, label = 'Validation')\n",
    "\n",
    "plt.xlabel('Max Depth')\n",
    "plt.ylabel('Accuracy')\n",
    "plt.title('Training vs Validation data')\n",
    "plt.legend()\n",
    "plt.show()"
   ]
  },
  {
   "cell_type": "markdown",
   "id": "c7445e62",
   "metadata": {
    "papermill": {
     "duration": 0.015424,
     "end_time": "2023-12-14T14:03:06.754250",
     "exception": false,
     "start_time": "2023-12-14T14:03:06.738826",
     "status": "completed"
    },
    "tags": []
   },
   "source": [
    "The decision tree shows a marked improvement in accuracy over the logistic regression model, with a validation accuracy of 79.33%."
   ]
  },
  {
   "cell_type": "markdown",
   "id": "857c6cf4",
   "metadata": {
    "papermill": {
     "duration": 0.013937,
     "end_time": "2023-12-14T14:03:06.785102",
     "exception": false,
     "start_time": "2023-12-14T14:03:06.771165",
     "status": "completed"
    },
    "tags": []
   },
   "source": [
    "# Random Forest model\n",
    "\n",
    "* Training Accuracy for Optimal Model:    0.9999\n",
    "* Validation Accuracy for Optimal Model:  0.8623"
   ]
  },
  {
   "cell_type": "code",
   "execution_count": 15,
   "id": "3ad6a9c9",
   "metadata": {
    "execution": {
     "iopub.execute_input": "2023-12-14T14:03:06.818565Z",
     "iopub.status.busy": "2023-12-14T14:03:06.817722Z",
     "iopub.status.idle": "2023-12-14T14:04:19.860024Z",
     "shell.execute_reply": "2023-12-14T14:04:19.858301Z"
    },
    "papermill": {
     "duration": 73.075862,
     "end_time": "2023-12-14T14:04:19.875893",
     "exception": false,
     "start_time": "2023-12-14T14:03:06.800031",
     "status": "completed"
    },
    "tags": []
   },
   "outputs": [
    {
     "name": "stdout",
     "output_type": "stream",
     "text": [
      "Random Forest model:\n",
      "Optimal value for max_depth:            29\n",
      "Training Accuracy for Optimal Model:    1.0\n",
      "Validation Accuracy for Optimal Model:  0.8648\n",
      "CPU times: user 1min 12s, sys: 357 ms, total: 1min 12s\n",
      "Wall time: 1min 13s\n"
     ]
    }
   ],
   "source": [
    "%%time\n",
    "\n",
    "rf_train_acc = []\n",
    "rf_valid_acc = []\n",
    "depth_range = range(2, 30)\n",
    "np.random.seed(1)\n",
    "\n",
    "for d in depth_range:\n",
    "    temp_forest = RandomForestClassifier(n_estimators = 100, max_depth = d)\n",
    "    temp_forest.fit(X_train, y_train)\n",
    "    rf_train_acc.append(temp_forest.score(X_train, y_train))\n",
    "    rf_valid_acc.append(temp_forest.score(X_valid, y_valid))\n",
    "\n",
    "rf_idx = np.argmax(rf_valid_acc)\n",
    "rf_opt_depth = depth_range[rf_idx]\n",
    "\n",
    "print('Random Forest model:')\n",
    "print('Optimal value for max_depth:           ', rf_opt_depth)\n",
    "print('Training Accuracy for Optimal Model:   ', round(rf_train_acc[rf_idx], 4))\n",
    "print('Validation Accuracy for Optimal Model: ', round(rf_valid_acc[rf_idx], 4))"
   ]
  },
  {
   "cell_type": "code",
   "execution_count": 16,
   "id": "e626d894",
   "metadata": {
    "execution": {
     "iopub.execute_input": "2023-12-14T14:04:19.909807Z",
     "iopub.status.busy": "2023-12-14T14:04:19.909319Z",
     "iopub.status.idle": "2023-12-14T14:04:20.265561Z",
     "shell.execute_reply": "2023-12-14T14:04:20.264319Z"
    },
    "papermill": {
     "duration": 0.377468,
     "end_time": "2023-12-14T14:04:20.268721",
     "exception": false,
     "start_time": "2023-12-14T14:04:19.891253",
     "status": "completed"
    },
    "tags": []
   },
   "outputs": [
    {
     "data": {
      "image/png": "[encoded data removed]",
      "text/plain": [
       "<Figure size 800x600 with 1 Axes>"
      ]
     },
     "metadata": {},
     "output_type": "display_data"
    }
   ],
   "source": [
    "plt.figure(figsize = [8, 6])\n",
    "\n",
    "plt.plot(depth_range, rf_train_acc, label = 'Training')\n",
    "plt.plot(depth_range, rf_valid_acc, label = 'Validation')\n",
    "\n",
    "plt.xlabel('Max Depth')\n",
    "plt.ylabel('Accuracy')\n",
    "plt.title('Training vs Validation data')\n",
    "plt.legend()\n",
    "plt.show()"
   ]
  },
  {
   "cell_type": "markdown",
   "id": "d8fecc1a",
   "metadata": {
    "papermill": {
     "duration": 0.014643,
     "end_time": "2023-12-14T14:04:20.299260",
     "exception": false,
     "start_time": "2023-12-14T14:04:20.284617",
     "status": "completed"
    },
    "tags": []
   },
   "source": [
    "The random forest model is an improvement over the decision tree, taking the validation accuracy to 86.48%"
   ]
  },
  {
   "cell_type": "markdown",
   "id": "d8d68d69",
   "metadata": {
    "papermill": {
     "duration": 0.015701,
     "end_time": "2023-12-14T14:04:20.331418",
     "exception": false,
     "start_time": "2023-12-14T14:04:20.315717",
     "status": "completed"
    },
    "tags": []
   },
   "source": [
    "# Best random forest model\n",
    "\n",
    "* Training Accuracy:    0.9999\n",
    "* Validation Accuracy:  0.8623"
   ]
  },
  {
   "cell_type": "code",
   "execution_count": 17,
   "id": "b1e50510",
   "metadata": {
    "execution": {
     "iopub.execute_input": "2023-12-14T14:04:20.367691Z",
     "iopub.status.busy": "2023-12-14T14:04:20.367154Z",
     "iopub.status.idle": "2023-12-14T14:04:23.688576Z",
     "shell.execute_reply": "2023-12-14T14:04:23.687100Z"
    },
    "papermill": {
     "duration": 3.343743,
     "end_time": "2023-12-14T14:04:23.691440",
     "exception": false,
     "start_time": "2023-12-14T14:04:20.347697",
     "status": "completed"
    },
    "tags": []
   },
   "outputs": [
    {
     "name": "stdout",
     "output_type": "stream",
     "text": [
      "CPU times: user 3.27 s, sys: 33.9 ms, total: 3.31 s\n",
      "Wall time: 3.31 s\n"
     ]
    }
   ],
   "source": [
    "%%time\n",
    "\n",
    "best_rf_train_acc = []\n",
    "best_rf_valid_acc = []\n",
    "\n",
    "np.random.seed(1)\n",
    "best_forest = RandomForestClassifier(n_estimators = 100, max_depth = 25)\n",
    "best_forest.fit(X_train, y_train)\n",
    "\n",
    "best_rf_train_acc.append(best_forest.score(X_train, y_train))\n",
    "best_rf_valid_acc.append(best_forest.score(X_valid, y_valid))"
   ]
  },
  {
   "cell_type": "code",
   "execution_count": 18,
   "id": "0419c55f",
   "metadata": {
    "execution": {
     "iopub.execute_input": "2023-12-14T14:04:23.723486Z",
     "iopub.status.busy": "2023-12-14T14:04:23.722377Z",
     "iopub.status.idle": "2023-12-14T14:04:23.729530Z",
     "shell.execute_reply": "2023-12-14T14:04:23.728236Z"
    },
    "papermill": {
     "duration": 0.026101,
     "end_time": "2023-12-14T14:04:23.732312",
     "exception": false,
     "start_time": "2023-12-14T14:04:23.706211",
     "status": "completed"
    },
    "tags": []
   },
   "outputs": [
    {
     "name": "stdout",
     "output_type": "stream",
     "text": [
      "Best random forest model:\n",
      "Training Accuracy:    0.9999\n",
      "Validation Accuracy:  0.8623\n"
     ]
    }
   ],
   "source": [
    "print('Best random forest model:')\n",
    "print('Training Accuracy:   ', round(best_rf_train_acc[0], 4))\n",
    "print('Validation Accuracy: ', round(best_rf_valid_acc[0], 4))"
   ]
  },
  {
   "cell_type": "markdown",
   "id": "05406785",
   "metadata": {
    "papermill": {
     "duration": 0.015195,
     "end_time": "2023-12-14T14:04:23.762608",
     "exception": false,
     "start_time": "2023-12-14T14:04:23.747413",
     "status": "completed"
    },
    "tags": []
   },
   "source": [
    "# Predicting the test set\n",
    "\n",
    "Having selected a model type, the random forest model can now be trained on the training set, and create predictions for the test set for submission to the Kaggle competition."
   ]
  },
  {
   "cell_type": "code",
   "execution_count": 19,
   "id": "66fd1ea4",
   "metadata": {
    "execution": {
     "iopub.execute_input": "2023-12-14T14:04:23.795904Z",
     "iopub.status.busy": "2023-12-14T14:04:23.795447Z",
     "iopub.status.idle": "2023-12-14T14:04:24.170685Z",
     "shell.execute_reply": "2023-12-14T14:04:24.169202Z"
    },
    "papermill": {
     "duration": 0.395091,
     "end_time": "2023-12-14T14:04:24.174045",
     "exception": false,
     "start_time": "2023-12-14T14:04:23.778954",
     "status": "completed"
    },
    "tags": []
   },
   "outputs": [],
   "source": [
    "X_num_test = test.loc[:, ['Elevation', 'Aspect', 'Slope', 'Horizontal_Distance_To_Hydrology',\n",
    "                   'Vertical_Distance_To_Hydrology', 'Horizontal_Distance_To_Roadways',\n",
    "                   'Hillshade_9am', 'Hillshade_Noon', 'Hillshade_3pm', 'Horizontal_Distance_To_Fire_Points']].values\n",
    "X_cat_test = test.loc[:, ['Wilderness_Area1', 'Wilderness_Area2', 'Wilderness_Area3', \n",
    "                      'Wilderness_Area4', 'Soil_Type1', 'Soil_Type2', 'Soil_Type3', 'Soil_Type4', \n",
    "                      'Soil_Type5', 'Soil_Type6', 'Soil_Type7', 'Soil_Type8', 'Soil_Type9', \n",
    "                      'Soil_Type10', 'Soil_Type11', 'Soil_Type12', 'Soil_Type13', 'Soil_Type14', \n",
    "                      'Soil_Type15', 'Soil_Type16', 'Soil_Type17', 'Soil_Type18', 'Soil_Type19', \n",
    "                      'Soil_Type20', 'Soil_Type21', 'Soil_Type22', 'Soil_Type23', 'Soil_Type24',\n",
    "                      'Soil_Type25', 'Soil_Type26', 'Soil_Type27', 'Soil_Type28', 'Soil_Type29',\n",
    "                      'Soil_Type30', 'Soil_Type31', 'Soil_Type32', 'Soil_Type33', 'Soil_Type34',\n",
    "                      'Soil_Type35', 'Soil_Type36', 'Soil_Type37', 'Soil_Type38', 'Soil_Type39',\n",
    "                      'Soil_Type40',]].values"
   ]
  },
  {
   "cell_type": "code",
   "execution_count": 20,
   "id": "4cbfdacb",
   "metadata": {
    "execution": {
     "iopub.execute_input": "2023-12-14T14:04:24.206266Z",
     "iopub.status.busy": "2023-12-14T14:04:24.205872Z",
     "iopub.status.idle": "2023-12-14T14:04:39.823248Z",
     "shell.execute_reply": "2023-12-14T14:04:39.821438Z"
    },
    "papermill": {
     "duration": 15.636906,
     "end_time": "2023-12-14T14:04:39.826193",
     "exception": false,
     "start_time": "2023-12-14T14:04:24.189287",
     "status": "completed"
    },
    "tags": []
   },
   "outputs": [
    {
     "name": "stdout",
     "output_type": "stream",
     "text": [
      "CPU times: user 15.1 s, sys: 487 ms, total: 15.6 s\n",
      "Wall time: 15.6 s\n"
     ]
    }
   ],
   "source": [
    "%%time\n",
    "\n",
    "X_test = np.hstack((X_num_test, X_cat_test))\n",
    "y_pred = best_forest.predict(X_test)"
   ]
  },
  {
   "cell_type": "markdown",
   "id": "4655fe46",
   "metadata": {
    "papermill": {
     "duration": 0.015841,
     "end_time": "2023-12-14T14:04:39.857931",
     "exception": false,
     "start_time": "2023-12-14T14:04:39.842090",
     "status": "completed"
    },
    "tags": []
   },
   "source": [
    "# Submission\n",
    "\n",
    "Score: 0.73306\n",
    "\n",
    "On submission to Kaggle, the random forest model scored an accuracy of 73%, a drop from the validation accuracy of 86%."
   ]
  },
  {
   "cell_type": "code",
   "execution_count": 21,
   "id": "be430541",
   "metadata": {
    "execution": {
     "iopub.execute_input": "2023-12-14T14:04:39.892257Z",
     "iopub.status.busy": "2023-12-14T14:04:39.891816Z",
     "iopub.status.idle": "2023-12-14T14:04:44.122605Z",
     "shell.execute_reply": "2023-12-14T14:04:44.121328Z"
    },
    "papermill": {
     "duration": 4.251167,
     "end_time": "2023-12-14T14:04:44.125786",
     "exception": false,
     "start_time": "2023-12-14T14:04:39.874619",
     "status": "completed"
    },
    "tags": []
   },
   "outputs": [
    {
     "name": "stdout",
     "output_type": "stream",
     "text": [
      "Id:  (565892,)\n",
      "y_pred:  (565892,)\n"
     ]
    }
   ],
   "source": [
    "Id = np.asarray(pd.read_csv('/kaggle/input/forest-cover-type-prediction/test.csv')['Id'])\n",
    "\n",
    "print(f'Id: ', Id.shape)\n",
    "print('y_pred: ', y_pred.shape)\n",
    "\n",
    "submission = pd.DataFrame({'Id':Id, 'Cover_Type':y_pred})\n",
    "submission.to_csv('submission.csv', header = True, index = False)"
   ]
  }
 ],
 "metadata": {
  "kaggle": {
   "accelerator": "none",
   "dataSources": [
    {
     "databundleVersionId": 137277,
     "sourceId": 3936,
     "sourceType": "competition"
    }
   ],
   "dockerImageVersionId": 30558,
   "isGpuEnabled": false,
   "isInternetEnabled": true,
   "language": "python",
   "sourceType": "notebook"
  },
  "kernelspec": {
   "display_name": "Python 3",
   "language": "python",
   "name": "python3"
  },
  "language_info": {
   "codemirror_mode": {
    "name": "ipython",
    "version": 3
   },
   "file_extension": ".py",
   "mimetype": "text/x-python",
   "name": "python",
   "nbconvert_exporter": "python",
   "pygments_lexer": "ipython3",
   "version": "3.10.12"
  },
  "papermill": {
   "default_parameters": {},
   "duration": 349.140213,
   "end_time": "2023-12-14T14:04:45.369016",
   "environment_variables": {},
   "exception": null,
   "input_path": "__notebook__.ipynb",
   "output_path": "__notebook__.ipynb",
   "parameters": {},
   "start_time": "2023-12-14T13:58:56.228803",
   "version": "2.4.0"
  }
 },
 "nbformat": 4,
 "nbformat_minor": 5
}
